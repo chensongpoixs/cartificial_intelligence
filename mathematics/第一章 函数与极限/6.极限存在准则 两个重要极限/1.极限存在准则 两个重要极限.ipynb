{
 "cells": [
  {
   "cell_type": "markdown",
   "metadata": {},
   "source": [
    "### 极限存在准则 两个重要极限\n",
    "\n",
    "准则一: 如果数列${|x_n|}$, ${|y_n|}$, 及${|z_n|}$满足下列条件;\n",
    "\n",
    "1. 从某项起,即 $\\exists n_0 \\in N$，当n > $n_0$时,有\n",
    "\n",
    "$y_n \\leq x_n \\leq z_n$\n",
    "\n",
    "2. $\\displaystyle \\lim_{n \\to \\infty}{y_n}$ = $a$, $\\displaystyle \\lim_{n \\to \\infty}{z_n}$ = $a$\n",
    "\n",
    "\n",
    "准则二: 单调有界数列必有极限\n",
    "\n",
    "如果数列${x_n}$满足条件\n",
    "\n",
    "$x_1 \\leq x_2 \\leq ... \\leq x_n \\leq x_{n+1} \\leq ...$\n",
    "\n",
    "就称数列${x_n}$是单调增加的"
   ]
  },
  {
   "cell_type": "code",
   "execution_count": null,
   "metadata": {},
   "outputs": [],
   "source": []
  }
 ],
 "metadata": {
  "kernelspec": {
   "display_name": "Python 3",
   "language": "python",
   "name": "python3"
  },
  "language_info": {
   "codemirror_mode": {
    "name": "ipython",
    "version": 3
   },
   "file_extension": ".py",
   "mimetype": "text/x-python",
   "name": "python",
   "nbconvert_exporter": "python",
   "pygments_lexer": "ipython3",
   "version": "3.6.0"
  }
 },
 "nbformat": 4,
 "nbformat_minor": 2
}
