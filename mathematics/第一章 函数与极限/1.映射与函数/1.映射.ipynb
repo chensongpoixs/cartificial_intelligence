{
 "cells": [
  {
   "cell_type": "markdown",
   "metadata": {},
   "source": [
    "\n",
    "## 映射\n",
    "\n",
    "### 1. 映射概念\n",
    "\n",
    "定义: 设X,Y是两个非空集合,如果存在一个法则 $f$, 使得对$X$中每个元素$x$, 按法则$f$, 在$Y$中有唯一确定的元素$y$与之对应,那么称$f$为从$X$到$Y$的映射,\n",
    "\n",
    "记作 <font color = 'blue'> $f:X {\\rightarrow} Y$ </font>\n",
    "\n",
    "其中$y$称为元素(在映射$f$下)的像,并记作$f({x})$,即 $y = f({x})$\n",
    "\n",
    "而元素$x$称为元素$y$(在映射$f$下)的一个原像;集合$X$称为映射$f$的定义域,记作$D_{f}$,即$D_{f} = X$; $X$中所有元素的像所组成的集合称为映射$f$的值域,记作$R_{f}$或$f({X})$,即 $R_{f}$ = $f({X})$={$f({x})|{x} \\in {X}$}\n",
    "\n",
    "在上述映射的定义中,需要注意的是:\n",
    "\n",
    "1) 构成一个映射必须具备以下三个要素\n",
    "\n",
    "  1. 集合 $X$ ,即定义域$D_{f}$=$X$;\n",
    "\n",
    "  2. 集合$Y$,即值域的范围; ${R_{f}\\subset{Y}}$;\n",
    "\n",
    "  3. 对应法则$f$,使对每个$x\\in{X}$,有唯一确定的$y$ = $f({x})$与之对应\n",
    " \n",
    "2) 对每个${x}\\in{X}$,元素$x$的像$y$是唯一的;而对每个${y}\\in{R_{f}}$,元素$f$的原像不一定是唯一的;映射$f$的值域$R_{f}$是$Y$的一个子集,即$R_{f}\\subset{Y}$,不一定$R_{f}={Y}$.\n",
    "\n",
    "### 2, 逆映射与复合映射\n",
    "\n",
    "\n",
    "    "
   ]
  },
  {
   "cell_type": "code",
   "execution_count": null,
   "metadata": {},
   "outputs": [],
   "source": []
  }
 ],
 "metadata": {
  "kernelspec": {
   "display_name": "Python 3",
   "language": "python",
   "name": "python3"
  },
  "language_info": {
   "codemirror_mode": {
    "name": "ipython",
    "version": 3
   },
   "file_extension": ".py",
   "mimetype": "text/x-python",
   "name": "python",
   "nbconvert_exporter": "python",
   "pygments_lexer": "ipython3",
   "version": "3.6.0"
  }
 },
 "nbformat": 4,
 "nbformat_minor": 2
}
