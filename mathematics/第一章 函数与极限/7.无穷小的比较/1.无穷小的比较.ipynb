{
 "cells": [
  {
   "cell_type": "markdown",
   "metadata": {},
   "source": [
    "### 无穷小的比较\n",
    "\n",
    "定义:\n",
    "\n",
    "如果 $\\lim {\\frac {\\beta}{\\alpha}}$ = 0，那么就说$\\beta$是比$\\alpha$高阶的无穷小,记作$\\beta = o(\\alpha)$\n",
    "\n",
    "如果 $\\lim {\\frac {\\beta}{\\alpha}}$ = $\\infty$, 那么就说$\\beta$是比$\\alpha$低阶的无穷小\n",
    "\n",
    "如果 $\\lim {\\frac {\\beta}{\\alpha}}$ = $c$ $\\neq 0$, 那么就说$\\beta$与$\\alpha$同阶的无穷小\n",
    "\n",
    "如果 $\\lim {\\frac {\\beta}{\\alpha}^k}$ = $c$ $\\neq 0$, $k > 0$ , 那么就说$\\beta$是关于$\\alpha$的k阶无穷小\n",
    "\n",
    "如果 $\\lim {\\frac {\\beta}{\\alpha}}$ = $0$ , 那么就说$\\beta$与$\\alpha$等阶的无穷小,记作 ${\\alpha} $ ~ ${\\beta}$\n",
    "\n",
    "\n",
    "定理1: $\\beta$ 与 $\\alpha$是等阶无穷小的充分必要条件为\n",
    " \n",
    " $\\beta$ = $\\alpha$ + $o(\\alpha)$\n",
    " \n",
    "定理2: 设$\\alpha$ ~ $\\tilde{\\alpha}$, $\\beta$ ~ $\\tilde{\\beta}$,且$\\lim^{\\tilde{\\beta}}_{\\tilde{\\alpha}}$ 存在,则\n",
    "\n",
    "$\\lim^{\\beta}_{\\alpha}$ = $\\lim^{\\tilde{\\beta}}_{\\tilde{\\alpha}}$"
   ]
  }
 ],
 "metadata": {
  "kernelspec": {
   "display_name": "Python 3",
   "language": "python",
   "name": "python3"
  },
  "language_info": {
   "codemirror_mode": {
    "name": "ipython",
    "version": 3
   },
   "file_extension": ".py",
   "mimetype": "text/x-python",
   "name": "python",
   "nbconvert_exporter": "python",
   "pygments_lexer": "ipython3",
   "version": "3.6.0"
  }
 },
 "nbformat": 4,
 "nbformat_minor": 2
}
