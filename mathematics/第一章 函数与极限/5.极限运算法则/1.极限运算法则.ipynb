{
 "cells": [
  {
   "cell_type": "markdown",
   "metadata": {},
   "source": [
    "### 极限运算法则\n",
    "\n",
    "定理1: 两个无穷小的和是无穷小\n",
    "\n",
    "定理2: 有界函数与无穷小之和也是无穷小\n",
    "\n",
    "定理3: 如果 $\\lim f(x) $ = $A$, $\\lim g(x)$ = $A \\pm B$,\n",
    "\n",
    "由定理3:可得到\n",
    " 1. $\\lim {[f(x) \\pm g(x)]}$ = $\\lim f(x) \\pm \\lim g(x)$ = $A \\pm B$\n",
    " 2. $\\lim {[f(x) \\cdot g(x)]}$ = $\\lim f(x) \\cdot \\lim g(x)$ = $A \\cdot B$\n",
    " 3. 若又有$B \\neq 0$, 则\n",
    " \n",
    "   $\\lim {\\frac{x}{y}}$ = $\\frac {\\lim f(x)} {\\lim g(x)}$ = $\\frac {A}{B}$\n",
    "   \n",
    "定理4: 设有数列$|x_n|$和$|y_n|$,如果\n",
    "\n",
    "$\\displaystyle \\lim_{n \\to \\infty}{ x_n}$ = $A$, $\\displaystyle \\lim_{n \\to \\infty}{ y_n}$ = $B$\n",
    "\n",
    "那么:\n",
    "\n",
    " 1. $\\displaystyle \\lim_{n \\to \\infty}{ (x_n \\pm y_m)}$ = $A \\pm B$\n",
    " 2. $\\displaystyle \\lim_{n \\to \\infty}{ (x_n \\cdot y_n)}$ = $A \\cdot B$\n",
    " 3. 当$y_n \\neq 0(n = 1, 2, 3,...)$且,$B \\neq 0$时, $\\displaystyle \\lim_{n \\to \\infty}{\\frac {A}{B} }$\n",
    " \n",
    "定理5: 如果$\\psi(x) \\geq \\psi(x)$, 而$\\lim \\psi(x) = A$, $lim \\psi(x) = B$,那么$A \\geq B$,\n",
    "\n",
    "\n",
    "\n"
   ]
  },
  {
   "cell_type": "code",
   "execution_count": null,
   "metadata": {},
   "outputs": [],
   "source": []
  }
 ],
 "metadata": {
  "kernelspec": {
   "display_name": "Python 3",
   "language": "python",
   "name": "python3"
  },
  "language_info": {
   "codemirror_mode": {
    "name": "ipython",
    "version": 3
   },
   "file_extension": ".py",
   "mimetype": "text/x-python",
   "name": "python",
   "nbconvert_exporter": "python",
   "pygments_lexer": "ipython3",
   "version": "3.6.0"
  }
 },
 "nbformat": 4,
 "nbformat_minor": 2
}
