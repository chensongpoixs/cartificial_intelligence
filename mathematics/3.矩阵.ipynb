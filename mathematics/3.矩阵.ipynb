{
 "cells": [
  {
   "cell_type": "markdown",
   "metadata": {},
   "source": [
    "### 一,矩阵与运算\n",
    "\n",
    "1. 方阵,对称矩阵,单位矩阵,对角阵\n",
    "\n",
    "\n",
    "![matrix](./img/matrix.png)\n",
    "\n",
    "\n",
    "2. 矩阵的运算  加法,数乘, 减法, 转置\n",
    "\n",
    "\n",
    "\n",
    "\n",
    "3. 逆矩阵\n",
    "\n",
    "矩阵是没有除法的\n",
    "\n",
    "公式: \n",
    "\n",
    "AB = I\n",
    "\n",
    "BA = I\n",
    "\n",
    "\n",
    "公式:\n",
    "\n",
    "$(AB)^{-1}$ = $B^{-1}A^{-1}$\n",
    "\n",
    "$(A^{-1})^{-1}$ = A\n",
    "\n",
    "$(A^T)^{-1}$ = $(A^{-1})^T$\n",
    "\n",
    "\n"
   ]
  },
  {
   "cell_type": "markdown",
   "metadata": {},
   "source": [
    "### 二, 行列式\n",
    "\n",
    "![](./img/m_lie.png)\n",
    "\n",
    "\n",
    "示例:\n",
    "\n",
    "{1, 2, 3}\n",
    "\n",
    "\n",
    "6中情况\n",
    "\n",
    "{1, 2, 3}, {1, 3, 2}, {2, 1, 3}, {2, 3, 1}, {3, 1, 2}, {3, 2, 1}\n",
    "\n",
    "![m_lie_2](./img/m_lie_2.png)\n",
    "\n",
    "\n",
    "$|AB|$ = $|A|B|$\n",
    "\n",
    "$|A^{-1}|$ = $|A|^{-1}$\n",
    "\n",
    "$|{a}A|$ = ${a}^n|A|$"
   ]
  }
 ],
 "metadata": {
  "kernelspec": {
   "display_name": "Python 3",
   "language": "python",
   "name": "python3"
  },
  "language_info": {
   "codemirror_mode": {
    "name": "ipython",
    "version": 3
   },
   "file_extension": ".py",
   "mimetype": "text/x-python",
   "name": "python",
   "nbconvert_exporter": "python",
   "pygments_lexer": "ipython3",
   "version": "3.6.0"
  }
 },
 "nbformat": 4,
 "nbformat_minor": 2
}
