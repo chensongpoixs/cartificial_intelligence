{
 "cells": [
  {
   "cell_type": "markdown",
   "metadata": {},
   "source": [
    "### 一,导数的定义\n",
    "\n",
    "\n",
    "f'(x)= $\\lim^ {}_{x' \\to 0}{\\frac{f(x + x') - f(x)}{x'}}$\n",
    "\n",
    "\n",
    "x' $\\Rightarrow$ -0\n",
    "\n",
    "x' $\\Rightarrow$ +0\n",
    "\n",
    "\n",
    "左导数与右导数\n",
    "\n",
    "可导函数\n",
    "\n",
    "导数的几何意义与物理意思\n",
    "\n",
    "\n"
   ]
  },
  {
   "cell_type": "markdown",
   "metadata": {},
   "source": [
    "### 二, 求导公式\n",
    "\n",
    "1. 基本函数\n",
    "\n",
    "${\\big(x^a\\big)'}$ = a$x^{a-1}$\n",
    "\n",
    "${\\big(e^x\\big)'}$ = $e^x$\n",
    "\n",
    "${\\big(a^x\\big)'}$ = $a^x$ $ln$a\n",
    "\n",
    "${\\big(ln x \\big)'}$ = ${1/x}$\n",
    "\n",
    "2. 四则运算\n",
    "\n",
    "${\\bigg(f\\big(x\\big) + g\\big(x\\big)\\bigg)'}$ = ${f'\\big(x\\big) + f'\\big(x\\big)}$\n",
    "\n",
    "${\\bigg(f\\big(x\\big)g\\big(x\\big)\\bigg)'}$ = ${f'\\big(x\\big)g\\big(x\\big)+f\\big(x\\big)g'\\big(x\\big)}$ \n",
    "\n",
    "${\\frac{f\\big(x\\big)}{g\\big(x\\big)}}$ =  ${\\frac{f'\\big(x\\big)g\\big(x\\big)-f\\big(x\\big)g'\\big(x\\big)}{g^2\\big(x\\big)}}$ \n",
    "\n",
    "3. 复合函数\n",
    "\n",
    "${\\Bigg(f\\bigg(g\\big(x\\big)\\bigg)\\Bigg)'}$ = ${f'\\big(g\\big)g'\\big(x\\big)}$\n",
    "\n",
    "\n",
    "\n",
    "事例:\n",
    "\n",
    "$f\\big(x\\big)$ =  $\\log(1 + x^2 + e^{2x})$\n",
    "               = $\\big(\\frac{1}{1+x+e^{2x}} \\big)\\big(2x+e^{2x_{\\mbox{x}}}\\big)$ \n",
    "               \n",
    "               \n",
    "高阶导数\n",
    "\n",
    "是在$f(x)'$上再次求导数得到$\\big(f(x)'\\big)'$\n"
   ]
  },
  {
   "cell_type": "markdown",
   "metadata": {},
   "source": [
    "### 三, 导数与函数的性质\n",
    "\n",
    "1. 导数与函数单调性的关系\n",
    "2. 极值定理\n",
    "3. 导数与函数凹凸性的关系\n",
    "\n",
    "\n",
    "一阶导数是函数的单调性 $f(x)'$ > 0 单调增函数, $f(x)'$ < 0 单调减函数\n",
    "\n",
    "二阶导数是函数的凹凸性 $\\big(f(x)'\\big)'$ > 0 凸函数, $\\big(f(x)'\\big)'$ <0 凹函数\n",
    "\n",
    "\n",
    "名词\n",
    "\n",
    "微积分中名词:\n",
    "\n",
    "驻点: 一阶导数 $f(x)'$ = 0时称为驻点\n",
    "\n",
    "拐点: 二阶导数 $\\big(f(x)'\\big)'$ = 0时称为拐点\n",
    "\n",
    "\n",
    "![match_derivatives](./img/match_derivatives.png)"
   ]
  },
  {
   "cell_type": "markdown",
   "metadata": {},
   "source": []
  }
 ],
 "metadata": {
  "kernelspec": {
   "display_name": "Python 3",
   "language": "python",
   "name": "python3"
  },
  "language_info": {
   "codemirror_mode": {
    "name": "ipython",
    "version": 3
   },
   "file_extension": ".py",
   "mimetype": "text/x-python",
   "name": "python",
   "nbconvert_exporter": "python",
   "pygments_lexer": "ipython3",
   "version": "3.6.0"
  }
 },
 "nbformat": 4,
 "nbformat_minor": 2
}
