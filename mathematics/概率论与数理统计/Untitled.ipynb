{
 "cells": [
  {
   "cell_type": "markdown",
   "id": "0ee9c289",
   "metadata": {},
   "source": [
    "# 随机实验和随机事件\n",
    "\n",
    "\n",
    "事件: 每种结果\n",
    "\n",
    "随机事件: A、B、C \n",
    "\n",
    "<font color='red'> 基本事件:  相当于实验事件、不能再分（不必再分了） </font>\n",
    "\n",
    "复合： 基本事件复合 \n",
    "\n",
    "\n"
   ]
  },
  {
   "cell_type": "code",
   "execution_count": null,
   "id": "0a2b5c16",
   "metadata": {},
   "outputs": [],
   "source": []
  }
 ],
 "metadata": {
  "kernelspec": {
   "display_name": "Python 3 (ipykernel)",
   "language": "python",
   "name": "python3"
  },
  "language_info": {
   "codemirror_mode": {
    "name": "ipython",
    "version": 3
   },
   "file_extension": ".py",
   "mimetype": "text/x-python",
   "name": "python",
   "nbconvert_exporter": "python",
   "pygments_lexer": "ipython3",
   "version": "3.9.12"
  }
 },
 "nbformat": 4,
 "nbformat_minor": 5
}
