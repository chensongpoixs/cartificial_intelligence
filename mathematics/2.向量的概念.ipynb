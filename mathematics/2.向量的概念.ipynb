{
 "cells": [
  {
   "cell_type": "markdown",
   "metadata": {},
   "source": [
    "### 一, 向量的概念\n",
    "\n",
    "向量与其运算\n",
    "\n",
    "行向量\n",
    "\n",
    "列向量\n",
    "\n",
    "向量的运算 加法, 数乘,减法, 内积,装置\n",
    "\n",
    "\n",
    "向量的内积\n",
    "\n",
    "![](./img/inner_product.png)\n",
    "\n",
    "\n",
    "<font color=\"red\"> 向量的范数</font>\n",
    "\n",
    "\n",
    "\n",
    "公式: $|x+y|_{\\mbox{p}}$ = $\\Bigg(\\displaystyle \\sum^{n }_{i = 1}{|X_{\\mbox{i}}|}^p\\Bigg)^{\\frac{1}{p}}$\n",
    "\n",
    "\n",
    "\n",
    "一次方 : $|x|_{\\mbox{1}}$ = $\\displaystyle \\sum^{n}_{i=1}{|x_{\\mbox{i}}|}$ 向量和\n",
    "\n",
    "\n",
    "\n",
    "二次方 : $|x|_{\\mbox{2}}$ = $\\sqrt {\\displaystyle \\sum^{n}_{i=1}{|x_{\\mbox{i}}|}^2}$      向量模 相当于长度\n"
   ]
  },
  {
   "cell_type": "code",
   "execution_count": null,
   "metadata": {},
   "outputs": [],
   "source": []
  }
 ],
 "metadata": {
  "kernelspec": {
   "display_name": "Python 3",
   "language": "python",
   "name": "python3"
  },
  "language_info": {
   "codemirror_mode": {
    "name": "ipython",
    "version": 3
   },
   "file_extension": ".py",
   "mimetype": "text/x-python",
   "name": "python",
   "nbconvert_exporter": "python",
   "pygments_lexer": "ipython3",
   "version": "3.6.0"
  }
 },
 "nbformat": 4,
 "nbformat_minor": 2
}
