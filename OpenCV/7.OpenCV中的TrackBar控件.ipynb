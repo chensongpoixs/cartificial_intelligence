{
 "cells": [
  {
   "cell_type": "markdown",
   "id": "ab8d3506",
   "metadata": {},
   "source": [
    "# OpenCV中的TrackBar控件\n",
    "\n",
    "1. createTrackbar\n",
    "2. getTrackbarPos\n",
    "\n",
    "\n",
    "```python3\n",
    "trackbarname： winname\n",
    "value：当前值\n",
    "count：最小值为0，最大值为count\n",
    "callback：userdata\n",
    "\n",
    "createTrackbar\n",
    "\n",
    "```\n",
    "\n",
    "\n",
    "```python3\n",
    "\n",
    "输入参数: traqckbrname\n",
    "\n",
    "getTrackbarPos\n",
    "```\n",
    "\n",
    "\n",
    "\n"
   ]
  },
  {
   "cell_type": "code",
   "execution_count": null,
   "id": "1e33e6b6",
   "metadata": {},
   "outputs": [],
   "source": [
    "import cv2;\n",
    "import numpy as np;\n",
    "\n",
    "def callback():\n",
    "    pass;\n",
    "\n",
    "# 创建窗口\n",
    "cv2.namedWindow('trackbar', cv2.WINDOW_NORMAL);\n",
    "\n",
    "cv2.resizeWindow('trackbar', 640, 360);\n",
    "\n",
    "\n",
    "# 创建trackbar   \n",
    "# 橡 值的最大值255\n",
    "cv2.createTrackbar('R', 'trackbar', 0, 255, callback);\n",
    "cv2.createTrackbar('G', 'trackbar', 0, 255, callback);\n",
    "cv2.createTrackbar('B', 'trackbar', 0, 255, callback);\n",
    "\n",
    "# 创建一个背景图片黑色\n",
    "img = np.zeros((480, 460, 3), np.uint8);\n",
    "\n",
    "\n",
    "while True:\n",
    "    # 读取图片的值\n",
    "    r = cv2.getTrackbarPos('R', 'trackbar');\n",
    "    g = cv2.getTrackbarPos('G', 'trackbar');\n",
    "    b = cv2.getTrackbarPos('B', 'trackbar');\n",
    "    \n",
    "    img[:] = [b, g, r]\n",
    "    cv2.imshow('trackbar', img);\n",
    "    key = cv2.waitKey(10);\n",
    "    \n",
    "    if key & 0XFF == ord('q'):\n",
    "        break;\n",
    "        \n",
    "cv2.destroyAllWindows();\n",
    "\n"
   ]
  }
 ],
 "metadata": {
  "kernelspec": {
   "display_name": "Python 3 (ipykernel)",
   "language": "python",
   "name": "python3"
  },
  "language_info": {
   "codemirror_mode": {
    "name": "ipython",
    "version": 3
   },
   "file_extension": ".py",
   "mimetype": "text/x-python",
   "name": "python",
   "nbconvert_exporter": "python",
   "pygments_lexer": "ipython3",
   "version": "3.9.12"
  }
 },
 "nbformat": 4,
 "nbformat_minor": 5
}
