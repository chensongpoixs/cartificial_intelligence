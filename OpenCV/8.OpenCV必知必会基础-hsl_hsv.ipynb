{
 "cells": [
  {
   "cell_type": "markdown",
   "id": "9cc40326",
   "metadata": {},
   "source": [
    "# OpenCV必知必会基础 \n",
    "\n",
    "## 一、核心知识\n",
    "\n",
    "1. RGB:人眼的色彩空间\n",
    "2. OpenCV默认使用BGR\n",
    "3. HSV/HSB/HSL  色相、饱和度、\n",
    "4. YUV 视频领域\n",
    "\n",
    "![RGB](./img/rgb.png)\n",
    "\n",
    "\n",
    "\n",
    "## 二、HSV与HSL\n",
    "\n",
    "\n",
    "Hue: 色相、即色彩、如红色、\n",
    "\n",
    "Saturation: 饱和度， 颜色的纯度\n",
    "\n",
    "Value： 明度\n",
    "\n",
    "Ligthness: 亮度\n",
    "\n",
    "HSV\n",
    "\n",
    "![HSV](./img/hsv.jpg)\n",
    "\n",
    "HUE OpenCV 使用模型\n",
    "\n",
    "![HUE](./img/hue.jpg)\n"
   ]
  },
  {
   "cell_type": "code",
   "execution_count": null,
   "id": "6a521b3a",
   "metadata": {},
   "outputs": [],
   "source": []
  }
 ],
 "metadata": {
  "kernelspec": {
   "display_name": "Python 3 (ipykernel)",
   "language": "python",
   "name": "python3"
  },
  "language_info": {
   "codemirror_mode": {
    "name": "ipython",
    "version": 3
   },
   "file_extension": ".py",
   "mimetype": "text/x-python",
   "name": "python",
   "nbconvert_exporter": "python",
   "pygments_lexer": "ipython3",
   "version": "3.9.12"
  }
 },
 "nbformat": 4,
 "nbformat_minor": 5
}
