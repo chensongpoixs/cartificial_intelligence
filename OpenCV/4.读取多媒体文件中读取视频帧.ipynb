{
 "cells": [
  {
   "cell_type": "markdown",
   "id": "1fe3a526",
   "metadata": {},
   "source": [
    "# 读取多媒体文件中读取视频帧\n",
    "\n",
    "```\n",
    "VideoCapture \n",
    "```"
   ]
  },
  {
   "cell_type": "code",
   "execution_count": 1,
   "id": "207c4231",
   "metadata": {},
   "outputs": [],
   "source": [
    "import cv2;\n",
    "\n",
    "# 创建窗口\n",
    "\n",
    "cv2.namedWindow('video', cv2.WINDOW_NORMAL);\n",
    "\n",
    "# cv2.resizeWindow('video', 640, 480);\n",
    "\n",
    "# 获取视频文件的URL或者DIR\n",
    "\n",
    "cap = cv2.VideoCapture(\"./img/cuc_ieschool.mp4\");\n",
    "\n",
    "while True:\n",
    "    ret, frame = cap.read();\n",
    "   # if (frame == nil):\n",
    "   #     break;\n",
    "    # 将视频帧在窗口中显示\n",
    "    cv2.imshow('video', frame);\n",
    "    \n",
    "    key = cv2.waitKey(80);\n",
    "    \n",
    "    if (key & 0XFF == ord('q')):\n",
    "        break;\n",
    "        \n",
    "\n",
    "# 释放VideoCapture\n",
    "cap.release();\n",
    "cv2.destroyAllWindows();\n",
    "\n"
   ]
  },
  {
   "cell_type": "code",
   "execution_count": null,
   "id": "726755bf",
   "metadata": {},
   "outputs": [],
   "source": []
  }
 ],
 "metadata": {
  "kernelspec": {
   "display_name": "Python 3 (ipykernel)",
   "language": "python",
   "name": "python3"
  },
  "language_info": {
   "codemirror_mode": {
    "name": "ipython",
    "version": 3
   },
   "file_extension": ".py",
   "mimetype": "text/x-python",
   "name": "python",
   "nbconvert_exporter": "python",
   "pygments_lexer": "ipython3",
   "version": "3.9.12"
  }
 },
 "nbformat": 4,
 "nbformat_minor": 5
}
