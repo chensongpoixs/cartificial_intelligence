{
 "cells": [
  {
   "cell_type": "markdown",
   "id": "30cfb976",
   "metadata": {},
   "source": [
    "# 视频采集\n",
    "\n",
    "API\n",
    "\n",
    "1. VideoCapure() 给设备号\n",
    "2. cap.read() \n",
    "3. cap.release()\n",
    "\n",
    "\n",
    "## 二、read\n",
    "\n",
    "1. 返回两个值， 第一个为状态值， 读到帧为true\n",
    "2. 第二个值为视频帧\n",
    "\n",
    "\n"
   ]
  },
  {
   "cell_type": "code",
   "execution_count": null,
   "id": "ebd1a679",
   "metadata": {},
   "outputs": [],
   "source": [
    "\n",
    "import cv2;\n",
    "\n",
    "# 创建窗口\n",
    "\n",
    "cv2.namedWindow('video', cv2.WINDOW_NORMAL);\n",
    "\n",
    "# cv2.resizeWindow('video', 640, 480);\n",
    "\n",
    "# 获取视频设备\n",
    "\n",
    "cap = cv2.VideoCapture(0);\n",
    "\n",
    "while True:\n",
    "    ret, frame = cap.read();\n",
    "    # 将视频帧在窗口中显示\n",
    "    cv2.imshow('video', frame);\n",
    "    \n",
    "    key = cv2.waitKey(50);\n",
    "    \n",
    "    if (key & 0XFF == ord('q')):\n",
    "        break;\n",
    "        \n",
    "\n",
    "# 释放VideoCapture\n",
    "cap.release();\n",
    "cv2.destroyAllWindows();\n"
   ]
  },
  {
   "cell_type": "code",
   "execution_count": null,
   "id": "8a58955c",
   "metadata": {},
   "outputs": [],
   "source": []
  }
 ],
 "metadata": {
  "kernelspec": {
   "display_name": "Python 3 (ipykernel)",
   "language": "python",
   "name": "python3"
  },
  "language_info": {
   "codemirror_mode": {
    "name": "ipython",
    "version": 3
   },
   "file_extension": ".py",
   "mimetype": "text/x-python",
   "name": "python",
   "nbconvert_exporter": "python",
   "pygments_lexer": "ipython3",
   "version": "3.9.12"
  }
 },
 "nbformat": 4,
 "nbformat_minor": 5
}
