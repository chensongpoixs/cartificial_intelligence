{
 "cells": [
  {
   "cell_type": "markdown",
   "id": "935b70b0",
   "metadata": {},
   "source": [
    "#  grep 命令的查询 OpenCV 的api\n",
    "\n",
    "查看文件中方法名技巧\n",
    "\n",
    "\n",
    "```shell\n",
    "\n",
    "grep \"xx\" * -Rn |grep \"\\.h\"\n",
    "\n",
    "```\n",
    "\n",
    "\n",
    "\n",
    "\n",
    "\n",
    "# 窗口的创建\n"
   ]
  },
  {
   "cell_type": "code",
   "execution_count": 9,
   "id": "31d6183d",
   "metadata": {},
   "outputs": [],
   "source": [
    " \n",
    "import cv2\n",
    "\n",
    "# 1、创建窗口\n",
    "cv2.namedWindow('new', cv2.WINDOW_NORMAL)\n",
    "\n",
    "\n",
    "# 2、设置窗口的大小\n",
    "cv2.resizeWindow('new', 640, 480)\n",
    "\n",
    "# 3、显示窗口\n",
    "cv2.imshow('new', 0)\n",
    "\n",
    "# 4、 等待微妙数 \n",
    "key = cv2.waitKey(0)\n",
    "\n",
    "if (key == 'q'):\n",
    "    exit()\n",
    "\n",
    "# 5、 销毁所有的窗口\n",
    "cv2.destroyAllWindows()\n",
    "\n",
    "\n",
    "\n"
   ]
  },
  {
   "cell_type": "markdown",
   "id": "8c1652e8",
   "metadata": {},
   "source": [
    "# 三、 imag \n",
    "\n",
    "\n",
    "1. im = image\n",
    "2. imread(path, flag);\n"
   ]
  },
  {
   "cell_type": "code",
   "execution_count": 14,
   "id": "9b762339",
   "metadata": {},
   "outputs": [
    {
     "name": "stdout",
     "output_type": "stream",
     "text": [
      "113\n",
      "113\n"
     ]
    }
   ],
   "source": [
    "import cv2\n",
    "\n",
    "cv2.namedWindow('img', cv2.WINDOW_NORMAL);\n",
    "\n",
    "\n",
    "# 加载图片\n",
    "img  = cv2.imread('./img/IMG_1256.JPG');\n",
    "\n",
    "# 3、显示窗口\n",
    "cv2.imshow('img', img);\n",
    "\n",
    "# 4、 等待微妙数 \n",
    "key = cv2.waitKey(0);\n",
    "\n",
    "print(key);\n",
    "\n",
    "# ord 函数获取字符asscii码\n",
    "print(ord('q'));\n",
    "\n",
    "if (key & 0xFF == ord('q')):\n",
    "    cv2.destroyAllWindows()\n",
    "\n",
    "# 5、 销毁所有的窗口\n",
    "# cv2.destroyAllWindows()"
   ]
  },
  {
   "cell_type": "code",
   "execution_count": null,
   "id": "d5da9b1d",
   "metadata": {},
   "outputs": [],
   "source": []
  }
 ],
 "metadata": {
  "kernelspec": {
   "display_name": "Python 3 (ipykernel)",
   "language": "python",
   "name": "python3"
  },
  "language_info": {
   "codemirror_mode": {
    "name": "ipython",
    "version": 3
   },
   "file_extension": ".py",
   "mimetype": "text/x-python",
   "name": "python",
   "nbconvert_exporter": "python",
   "pygments_lexer": "ipython3",
   "version": "3.9.12"
  }
 },
 "nbformat": 4,
 "nbformat_minor": 5
}
