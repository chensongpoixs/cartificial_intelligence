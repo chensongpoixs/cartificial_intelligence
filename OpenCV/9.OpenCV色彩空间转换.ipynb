{
 "cells": [
  {
   "cell_type": "markdown",
   "id": "10458567",
   "metadata": {},
   "source": [
    "# OpenCV色彩空间转换\n",
    "\n",
    "\n",
    "\n",
    "\n"
   ]
  },
  {
   "cell_type": "code",
   "execution_count": null,
   "id": "6ba6a5cb",
   "metadata": {},
   "outputs": [],
   "source": [
    "\n",
    "\n",
    "\n",
    "import cv2;\n",
    "\n",
    "def callback():\n",
    "    print('===');\n",
    " \n",
    "# 创建窗口\n",
    "cv2.namedWindow('color', cv2.WINDOW_NORMAL);\n",
    "\n",
    "cv2.resizeWindow('color', 640, 360);\n",
    "\n",
    "img = cv2.imread('./img/IMG_1256.JPG');\n",
    "\n",
    "colorspaces = [cv2.COLOR_BGR2RGBA, cv2.COLOR_BGR2BGRA, \n",
    "               cv2.COLOR_BGR2GRAY, cv2.COLOR_BGR2HSV, \n",
    "               cv2.COLOR_BGR2YUV]\n",
    "\n",
    "cv2.createTrackbar('curcolor', 'color', 0, 4, callback);\n",
    "\n",
    "\n",
    "while True:\n",
    "    index = cv2.getTrackbarPos('curcolor', 'color');\n",
    "    \n",
    "    # 颜色空间转换API\n",
    "    cvt_img = cv2.cvtColor(img, colorspaces[index]);\n",
    "    cv2.imshow('color', cvt_img);\n",
    " \n",
    "    key = cv2.waitKey(10);\n",
    "    #print(key);\n",
    "    if key & 0XFF == ord('q'):\n",
    "        break;\n",
    "\n",
    "\n",
    "# destroy ALL Window\n",
    "cv2.destroyAllWindows();\n",
    "\n",
    "\n",
    "\n",
    "\n",
    "\n",
    "\n",
    "\n",
    "\n",
    "\n",
    "\n"
   ]
  }
 ],
 "metadata": {
  "kernelspec": {
   "display_name": "Python 3 (ipykernel)",
   "language": "python",
   "name": "python3"
  },
  "language_info": {
   "codemirror_mode": {
    "name": "ipython",
    "version": 3
   },
   "file_extension": ".py",
   "mimetype": "text/x-python",
   "name": "python",
   "nbconvert_exporter": "python",
   "pygments_lexer": "ipython3",
   "version": "3.9.12"
  }
 },
 "nbformat": 4,
 "nbformat_minor": 5
}
