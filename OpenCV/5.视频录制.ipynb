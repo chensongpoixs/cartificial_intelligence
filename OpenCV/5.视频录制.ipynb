{
 "cells": [
  {
   "cell_type": "markdown",
   "id": "563ad078",
   "metadata": {},
   "source": [
    "# 视频录制\n",
    "\n",
    "1. VideoWriter\n",
    "2. write 写入数据\n",
    "3. release  释放资源\n",
    "\n",
    "\n",
    "## 一、视频分辨率\n",
    "\n",
    "```python\n",
    "\n",
    "参数一: 输出文件\n",
    "\n",
    "VideoWriter\n",
    "\n",
    "```\n",
    "\n",
    "\n",
    "\n",
    "## 二、"
   ]
  },
  {
   "cell_type": "code",
   "execution_count": 1,
   "id": "4246b17e",
   "metadata": {},
   "outputs": [
    {
     "ename": "NameError",
     "evalue": "name 'cpa' is not defined",
     "output_type": "error",
     "traceback": [
      "\u001b[1;31m---------------------------------------------------------------------------\u001b[0m",
      "\u001b[1;31mNameError\u001b[0m                                 Traceback (most recent call last)",
      "Input \u001b[1;32mIn [1]\u001b[0m, in \u001b[0;36m<cell line: 17>\u001b[1;34m()\u001b[0m\n\u001b[0;32m     14\u001b[0m cap \u001b[38;5;241m=\u001b[39m cv2\u001b[38;5;241m.\u001b[39mVideoCapture(\u001b[38;5;241m1\u001b[39m);\n\u001b[0;32m     16\u001b[0m \u001b[38;5;66;03m# 判断摄像头是否打开状态\u001b[39;00m\n\u001b[1;32m---> 17\u001b[0m \u001b[38;5;28;01mwhile\u001b[39;00m \u001b[43mcpa\u001b[49m\u001b[38;5;241m.\u001b[39misOpended():\n\u001b[0;32m     19\u001b[0m     ret, frame \u001b[38;5;241m=\u001b[39m cap\u001b[38;5;241m.\u001b[39mread();\n\u001b[0;32m     20\u001b[0m    \u001b[38;5;66;03m# if (frame == nil):\u001b[39;00m\n\u001b[0;32m     21\u001b[0m    \u001b[38;5;66;03m#     break;\u001b[39;00m\n",
      "\u001b[1;31mNameError\u001b[0m: name 'cpa' is not defined"
     ]
    }
   ],
   "source": [
    "\n",
    "import cv2;\n",
    "\n",
    "fourcc = cv2.VideoWriter_fourcc(*'MJPG');\n",
    "\n",
    "# 摄像头的分辨率\n",
    "vw = cv2.VideoWriter('./out.mp4', fourcc, 25, (1920, 1080));\n",
    "\n",
    "# 创建窗口\n",
    "cv2.namedWindow('video', cv2.WINDOW_NORMAL);\n",
    "\n",
    "cv2.resizeWindow('video', 640, 360);\n",
    "\n",
    "# 获取视频文件的URL或者DIR\n",
    "cap = cv2.VideoCapture(1);\n",
    "\n",
    "# 判断摄像头是否打开状态\n",
    "while cpa.isOpended():\n",
    "    \n",
    "    ret, frame = cap.read();\n",
    "   # if (frame == nil):\n",
    "   #     break;\n",
    "    if ret == True:\n",
    "    \n",
    "        # 将视频帧在窗口中显示\n",
    "        cv2.imshow('video', frame);\n",
    "\n",
    "        # 重新指定窗口大小\n",
    "        cv2.resizeWindow('video', 640, 360);\n",
    "\n",
    "        # 写数据到多媒体文件中去\n",
    "        vw.write(frame);\n",
    "\n",
    "        key = cv2.waitKey(100);\n",
    "\n",
    "        if (key & 0XFF == ord('q')):\n",
    "            break;\n",
    "            \n",
    "    else:\n",
    "        break;\n",
    "        \n",
    "\n",
    "# 释放 vw\n",
    "vw.release();\n",
    "# 释放VideoCapture\n",
    "cap.release();\n",
    "# destroy ALL Window\n",
    "cv2.destroyAllWindows();\n",
    "\n",
    "\n",
    "\n",
    "\n",
    "\n",
    "\n",
    "\n"
   ]
  },
  {
   "cell_type": "code",
   "execution_count": null,
   "id": "0a8d714e",
   "metadata": {},
   "outputs": [],
   "source": []
  }
 ],
 "metadata": {
  "kernelspec": {
   "display_name": "Python 3 (ipykernel)",
   "language": "python",
   "name": "python3"
  },
  "language_info": {
   "codemirror_mode": {
    "name": "ipython",
    "version": 3
   },
   "file_extension": ".py",
   "mimetype": "text/x-python",
   "name": "python",
   "nbconvert_exporter": "python",
   "pygments_lexer": "ipython3",
   "version": "3.9.12"
  }
 },
 "nbformat": 4,
 "nbformat_minor": 5
}
