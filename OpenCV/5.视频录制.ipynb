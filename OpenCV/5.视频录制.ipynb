{
 "cells": [
  {
   "cell_type": "markdown",
   "id": "563ad078",
   "metadata": {},
   "source": [
    "# 视频录制\n",
    "\n",
    "1. VideoWriter\n",
    "2. write\n",
    "3. release\n",
    "\n",
    "\n",
    "## 一、视频分辨率\n",
    "\n",
    "\n",
    "\n",
    "\n",
    "## 二、"
   ]
  }
 ],
 "metadata": {
  "kernelspec": {
   "display_name": "Python 3 (ipykernel)",
   "language": "python",
   "name": "python3"
  },
  "language_info": {
   "codemirror_mode": {
    "name": "ipython",
    "version": 3
   },
   "file_extension": ".py",
   "mimetype": "text/x-python",
   "name": "python",
   "nbconvert_exporter": "python",
   "pygments_lexer": "ipython3",
   "version": "3.9.12"
  }
 },
 "nbformat": 4,
 "nbformat_minor": 5
}
