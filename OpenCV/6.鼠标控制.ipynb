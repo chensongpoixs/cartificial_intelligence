{
 "cells": [
  {
   "cell_type": "markdown",
   "id": "121a2390",
   "metadata": {},
   "source": [
    "#  鼠标控制\n",
    "\n",
    "## 一、设置鼠标回调函数\n",
    "\n",
    "\n",
    "```python\n",
    "# \n",
    "setMouseCallback(winname, callback, userdata);\n",
    "```\n",
    "\n",
    "```python\n",
    "callback(event, x, y, flags, userdata);\n",
    "```\n",
    "\n",
    "## 二、 "
   ]
  },
  {
   "cell_type": "code",
   "execution_count": null,
   "id": "7b18f55a",
   "metadata": {},
   "outputs": [],
   "source": [
    "import cv2;\n",
    "import numpy as np;\n",
    "#定义函数\n",
    "def mouse_callback(event, x, y, flags, userdata):\n",
    "    print(event, x, y, flags, userdata);\n",
    "    \n",
    "    \n",
    "# 注册鼠标回调函数\n",
    "# mouse_callback(1,  100, 100, 16, '666');\n",
    "\n",
    "\n",
    "# 创建窗口\n",
    "cv2.namedWindow('mouse', cv2.WINDOW_NORMAL);\n",
    "\n",
    "cv2.resizeWindow('mouse', 640, 360);\n",
    "\n",
    "\n",
    "# 注册鼠标回调函数\n",
    "\n",
    "cv2.setMouseCallback('mouse', mouse_callback, '2022-07-26');\n",
    "\n",
    "# BGR\n",
    "img = np.zeros((360, 640, 3), np.uint8);\n",
    "\n",
    "while True:\n",
    "    cv2.imshow('mouse', img);\n",
    "    key = cv2.waitKey(1);\n",
    "    \n",
    "    if key & 0XFF == ord('q'):\n",
    "        break;\n",
    "        \n",
    "        \n",
    "cv2.destroyAllWindows();\n"
   ]
  }
 ],
 "metadata": {
  "kernelspec": {
   "display_name": "Python 3 (ipykernel)",
   "language": "python",
   "name": "python3"
  },
  "language_info": {
   "codemirror_mode": {
    "name": "ipython",
    "version": 3
   },
   "file_extension": ".py",
   "mimetype": "text/x-python",
   "name": "python",
   "nbconvert_exporter": "python",
   "pygments_lexer": "ipython3",
   "version": "3.9.12"
  }
 },
 "nbformat": 4,
 "nbformat_minor": 5
}
