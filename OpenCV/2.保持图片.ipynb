{
 "cells": [
  {
   "cell_type": "markdown",
   "id": "d3b83e03",
   "metadata": {},
   "source": [
    "# 保持图片\n",
    "\n",
    "```python\n",
    "/**\n",
    "* name   :要保存的文件名\n",
    "* img   : 是Mat类型\n",
    "*/\n",
    "imwrite(name, img)\n",
    "\n",
    "````\n"
   ]
  },
  {
   "cell_type": "code",
   "execution_count": 3,
   "id": "0364de90",
   "metadata": {},
   "outputs": [
    {
     "name": "stdout",
     "output_type": "stream",
     "text": [
      "113\n",
      "113\n"
     ]
    }
   ],
   "source": [
    "import cv2\n",
    "\n",
    "cv2.namedWindow('img', cv2.WINDOW_NORMAL);\n",
    "\n",
    "\n",
    "# 加载图片\n",
    "img  = cv2.imread('./img/IMG_1256.JPG');\n",
    "\n",
    "while True:\n",
    "    # 3、显示窗口\n",
    "    cv2.imshow('img', img);\n",
    "\n",
    "    # 4、 等待微妙数 \n",
    "    key = cv2.waitKey(0);\n",
    "\n",
    "    print(key);\n",
    "\n",
    "    # ord 函数获取字符asscii码\n",
    "    print(ord('q'));\n",
    "\n",
    "    if (key & 0xFF == ord('q')):\n",
    "        break;\n",
    "    elif(key & 0xff == ord('s')):\n",
    "        cv2.imwrite('./123.jpg', img);\n",
    "    else:\n",
    "        print(key);\n",
    "\n",
    "cv2.destroyAllWindows();"
   ]
  },
  {
   "cell_type": "code",
   "execution_count": null,
   "id": "a7e4a5e3",
   "metadata": {},
   "outputs": [],
   "source": []
  }
 ],
 "metadata": {
  "kernelspec": {
   "display_name": "Python 3 (ipykernel)",
   "language": "python",
   "name": "python3"
  },
  "language_info": {
   "codemirror_mode": {
    "name": "ipython",
    "version": 3
   },
   "file_extension": ".py",
   "mimetype": "text/x-python",
   "name": "python",
   "nbconvert_exporter": "python",
   "pygments_lexer": "ipython3",
   "version": "3.9.12"
  }
 },
 "nbformat": 4,
 "nbformat_minor": 5
}
